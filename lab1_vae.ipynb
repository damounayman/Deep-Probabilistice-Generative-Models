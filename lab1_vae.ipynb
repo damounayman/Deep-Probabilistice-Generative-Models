{
 "cells": [
  {
   "cell_type": "markdown",
   "metadata": {},
   "source": [
    "# Deep Probabilistice Generative Models - Variational Auto-Encoders\n",
    "\n",
    "For this lab exercise, you have to use Pytorch.\n",
    "If you don't know Pytorch or you don't know how to use it, please start by reading the following link:\n",
    "\n",
    "- https://pytorch.org/tutorials/beginner/nlp/pytorch_tutorial.html\n",
    "\n",
    "When you use Pytorch function, it is important to carefully read the documentation to understand how the different functions, what kind of transformation they apply etc.\n",
    "Searching on stackoverflow is not enough. :) \n",
    "You have to take time to read it carefully to understand what you are doing.\n",
    "\n",
    "- https://pytorch.org/docs/stable/torch.html\n",
    "- https://pytorch.org/docs/stable/nn.html\n",
    "- https://pytorch.org/docs/stable/nn.functional.html\n",
    "\n",
    "The most import tip: keep track of the dimension of your tensor and what information they contain!\n",
    "\n",
    "For examples, you can look at the GMM optimization via gradient descent notebook from the first course and at the MNIST classification example below. Don't just run them, try to understand them! Could you recode them from scratch without internet/example access?"
   ]
  },
  {
   "cell_type": "markdown",
   "metadata": {},
   "source": [
    "## 0. Preprocessing\n",
    "\n",
    "Import the libraries we will use.\n",
    "You can download the file dataset_loader from the course website."
   ]
  },
  {
   "cell_type": "code",
   "execution_count": 71,
   "metadata": {},
   "outputs": [],
   "source": [
    "import torch\n",
    "import torch.nn as nn\n",
    "import torch.optim\n",
    "import torch.nn.functional as F\n",
    "\n",
    "import os\n",
    "import numpy as np\n",
    "import matplotlib.pyplot as plt\n",
    "import math\n",
    "import matplotlib\n",
    "import math\n",
    "\n",
    "# To load the data we will use the script of Gaetan Marceau Caron\n",
    "# You can download it from the course webiste and move it to the same directory that contains this ipynb file\n",
    "import dataset_loader\n",
    "\n",
    "%matplotlib inline"
   ]
  },
  {
   "cell_type": "markdown",
   "metadata": {},
   "source": [
    "Next, we download and preprocess the MNIST dataset, see http://yann.lecun.com/exdb/mnist/ .\n",
    "Our observed random variables will be Bernoulli distributions, so we need to binarize the dataset, i.e. each pixel can either be black or white."
   ]
  },
  {
   "cell_type": "code",
   "execution_count": 72,
   "metadata": {},
   "outputs": [],
   "source": [
    "# Download mnist dataset \n",
    "if(\"mnist.pkl.gz\" not in os.listdir(\".\")):\n",
    "    !wget http://deeplearning.net/data/mnist/mnist.pkl.gz\n",
    "\n",
    "# if you have it somewhere else, you can comment the lines above\n",
    "# and overwrite the path below\n",
    "mnist_path = \"./mnist.pkl.gz\"\n",
    "\n",
    "# the dataset contains 3 splits (train/dev/test),\n",
    "# each one containing two vectors (pixels and classes)\n",
    "(train_data_pixels, train_data_classes), \\\n",
    "(dev_data_pixels, dev_data_classes), _ = dataset_loader.load_mnist(mnist_path)"
   ]
  },
  {
   "cell_type": "code",
   "execution_count": 73,
   "metadata": {},
   "outputs": [],
   "source": [
    "# to binarize, we just set to 1 pixels with a value >= 0.5, 0 otherwise\n",
    "train_data_pixels = 1*(train_data_pixels >= 0.5)\n",
    "dev_data_pixels = 1*(dev_data_pixels >= 0.5)"
   ]
  },
  {
   "cell_type": "code",
   "execution_count": 74,
   "metadata": {},
   "outputs": [],
   "source": [
    "# dataset_loader return numpy tensors,\n",
    "# we convert them directly to pytorch tensors\n",
    "train_data_pixels = torch.from_numpy(train_data_pixels).float()\n",
    "train_data_classes = torch.from_numpy(train_data_classes).long()\n",
    "\n",
    "dev_data_pixels = torch.from_numpy(dev_data_pixels).float()\n",
    "dev_data_classes = torch.from_numpy(dev_data_classes).long()"
   ]
  },
  {
   "cell_type": "code",
   "execution_count": 75,
   "metadata": {},
   "outputs": [
    {
     "name": "stdout",
     "output_type": "stream",
     "text": [
      "Shape of the pixel tensor: torch.Size([50000, 784])\n",
      "Shape of the class tensor: torch.Size([50000])\n"
     ]
    }
   ],
   "source": [
    "# there 50000 images, each image is of size 28x28\n",
    "# each image as been reshaped as vector of size 784\n",
    "print(\"Shape of the pixel tensor:\", train_data_pixels.shape)\n",
    "print(\"Shape of the class tensor:\", train_data_classes.shape)"
   ]
  },
  {
   "cell_type": "code",
   "execution_count": 76,
   "metadata": {},
   "outputs": [
    {
     "data": {
      "image/png": "[encoded data removed]",
      "text/plain": [
       "<Figure size 432x288 with 1 Axes>"
      ]
     },
     "metadata": {
      "needs_background": "light"
     },
     "output_type": "display_data"
    },
    {
     "data": {
      "image/png": "[encoded data removed]",
      "text/plain": [
       "<Figure size 432x288 with 1 Axes>"
      ]
     },
     "metadata": {
      "needs_background": "light"
     },
     "output_type": "display_data"
    },
    {
     "data": {
      "image/png": "[encoded data removed]",
      "text/plain": [
       "<Figure size 432x288 with 1 Axes>"
      ]
     },
     "metadata": {
      "needs_background": "light"
     },
     "output_type": "display_data"
    },
    {
     "data": {
      "image/png": "[encoded data removed]",
      "text/plain": [
       "<Figure size 432x288 with 1 Axes>"
      ]
     },
     "metadata": {
      "needs_background": "light"
     },
     "output_type": "display_data"
    },
    {
     "data": {
      "image/png": "[encoded data removed]",
      "text/plain": [
       "<Figure size 432x288 with 1 Axes>"
      ]
     },
     "metadata": {
      "needs_background": "light"
     },
     "output_type": "display_data"
    }
   ],
   "source": [
    "# we will use this function to print images generated by our network\n",
    "# the parameter images must be a tensor of shape (n images, 784)\n",
    "def display_images(images):\n",
    "    # convert to numpy tensor\n",
    "    images = images.detach().numpy()\n",
    "\n",
    "    for i in range(images.shape[0]):\n",
    "        plt.imshow(images[i].reshape(28,28), cmap='Greys')\n",
    "        plt.show()\n",
    "        \n",
    "# display the 5 first image in the dataset\n",
    "display_images(train_data_pixels[:5])"
   ]
  },
  {
   "cell_type": "markdown",
   "metadata": {},
   "source": [
    "## 1. MNIST classification with Pytorch\n",
    "\n",
    "In this first part, you need to study the code to understand how Pytorch works. :)\n",
    "The example is a simple classifier for MNIST data.\n",
    "\n",
    "**TODO**\n",
    "\n",
    "- can you write mathematically the function computed by this network?\n",
    "- what are the dimensions of each parameter?\n",
    "\n",
    "It is very import that you are able to write that and understand what tensor operation it does.\n",
    "This is the **root** of machine learning and especially deep learning.\n",
    "To help you, draw the matrices/vectors!"
   ]
  },
  {
   "cell_type": "markdown",
   "metadata": {},
   "source": [
    "## Answer"
   ]
  },
  {
   "cell_type": "markdown",
   "metadata": {},
   "source": [
    "The architecture of the neural network is presented below"
   ]
  },
  {
   "cell_type": "markdown",
   "metadata": {},
   "source": [
    "<img src=\"images/NN.png\" width=\"400\">"
   ]
  },
  {
   "cell_type": "markdown",
   "metadata": {},
   "source": [
    "Where:\n",
    "- input dim: in our case it will the size of a single input image (28*28=784)\n",
    "- hidden dim: the hidden dim is define when when calling the model\n",
    "- output dim: the number of class, in our case there are 10 digits"
   ]
  },
  {
   "cell_type": "markdown",
   "metadata": {},
   "source": [
    "As activation function the rectified linear units (ReLUs in short) is chosen. In PyTorch a nice way to build a network is by creating a new class for the network we wish to build."
   ]
  },
  {
   "cell_type": "markdown",
   "metadata": {},
   "source": [
    "<img src=\"images/activation.png\" width=\"600\">"
   ]
  },
  {
   "cell_type": "code",
   "execution_count": 77,
   "metadata": {},
   "outputs": [],
   "source": [
    "# to create a neural network (or a part of a neural network),\n",
    "# we create a class that extends nn.Module\n",
    "class Classifier(nn.Module):\n",
    "    # the constructor, parameters are self-documented by their name :)\n",
    "    # input_dim: in our case it will the size of a single input image\n",
    "    # hidden_dim: the hidden representation dim\n",
    "    # output_dim: the number of class, in our case there are 10 digits\n",
    "    def __init__(self, input_dim, hidden_dim, output_dim, dropout_ratio=0.5):\n",
    "        super().__init__()\n",
    "        \n",
    "        # we have two projections in the network,\n",
    "        # the first one project the input in the hidden space,\n",
    "        # the second one project the hidden representation in the output space.\n",
    "        # have a look at the documentation of nn.Linear!\n",
    "        # nn.Linear extends nn.Module\n",
    "        self.proj1 = nn.Linear(input_dim, hidden_dim)\n",
    "        self.proj2 = nn.Linear(hidden_dim, output_dim)\n",
    "        \n",
    "        # dropout can be used to prevent overfitting,\n",
    "        # however, it may be better to start training VAE without!\n",
    "        # I just put it here for the example\n",
    "        \n",
    "        # let assume you create a network with:\n",
    "        # network = Classifier(10, 10, 10)\n",
    "        # then, to enable dropout you must call:\n",
    "        # network.train()\n",
    "        # and to disable dropout:\n",
    "        # network.eval()\n",
    "        # basically this calls set the network\n",
    "        # in training and evaluation modes, respectively\n",
    "        self.dropout = nn.Dropout(0.5)\n",
    "        \n",
    "    # this is the function that will be called\n",
    "    # when we pass data to the network to compute the output\n",
    "    # shape of batch: (n samples, output_dim)\n",
    "    # where n samples is the number of samples in the batch\n",
    "    def forward(self, batch):\n",
    "        hid = self.proj1(batch)\n",
    "        \n",
    "        # non-linearity, it could have been a nn.Module object stored in this module,\n",
    "        # here we use the functionnal version\n",
    "        hid = F.relu(hid)\n",
    "        \n",
    "        # note: dropout is used to prevent overfitting\n",
    "        hid = self.dropout(hid)\n",
    "        \n",
    "        # return the output, i.e. logits of each class for each sample in the batch\n",
    "        # shape: (n samples, output_dim)\n",
    "        return self.proj2(hid)"
   ]
  },
  {
   "cell_type": "code",
   "execution_count": 78,
   "metadata": {},
   "outputs": [
    {
     "name": "stdout",
     "output_type": "stream",
     "text": [
      "0 :\t 24702.82536149025 \t / dev precision:\t 0.9401\n",
      "1 :\t 12447.907480597496 \t / dev precision:\t 0.9554\n",
      "2 :\t 9662.106158211827 \t / dev precision:\t 0.9628\n",
      "3 :\t 8098.756615072489 \t / dev precision:\t 0.9663\n",
      "4 :\t 7070.544084534049 \t / dev precision:\t 0.9682\n",
      "5 :\t 6378.962846659124 \t / dev precision:\t 0.9702\n",
      "6 :\t 5714.1874101012945 \t / dev precision:\t 0.9716\n",
      "7 :\t 5236.967987008393 \t / dev precision:\t 0.9724\n",
      "8 :\t 4909.05246026814 \t / dev precision:\t 0.9742\n",
      "9 :\t 4394.363854452968 \t / dev precision:\t 0.9742\n",
      "10 :\t 4167.487769015133 \t / dev precision:\t 0.9754\n",
      "11 :\t 3955.012221261859 \t / dev precision:\t 0.9746\n",
      "12 :\t 3693.2632934767753 \t / dev precision:\t 0.9746\n",
      "13 :\t 3629.6110617928207 \t / dev precision:\t 0.9756\n",
      "14 :\t 3344.173347763717 \t / dev precision:\t 0.976\n",
      "15 :\t 3108.706675749272 \t / dev precision:\t 0.9759\n",
      "16 :\t 3030.6782962288707 \t / dev precision:\t 0.9767\n",
      "17 :\t 2884.88402152434 \t / dev precision:\t 0.9783\n",
      "18 :\t 2777.622308395803 \t / dev precision:\t 0.9771\n",
      "19 :\t 2691.905982559547 \t / dev precision:\t 0.9773\n"
     ]
    }
   ],
   "source": [
    "n_epoch = 20\n",
    "batch_size = 100\n",
    "\n",
    "# build the network!\n",
    "network = Classifier(28*28, 200, 10)\n",
    "\n",
    "# optimizer that will be used to update the parameters!\n",
    "optimizer = torch.optim.Adam(network.parameters())\n",
    "\n",
    "all_epoch_losses = list()\n",
    "all_epoch_accuracies = list()\n",
    "for epoch in range(n_epoch):\n",
    "    # we keep track of the loss at each epoch\n",
    "    epoch_loss = 0\n",
    "    \n",
    "    # Note: one trick often used is to shuffle the data at each epoch,\n",
    "    # we won't do that here.\n",
    "    # if you want to do it, be carefull:\n",
    "    # you need to shuffle both train_data_pixels and train_data_classes\n",
    "    # so that they match, i.e. you cannot shuffle them independently!\n",
    "\n",
    "    network.train() # set the network in train mode (i.e. enable dropout)\n",
    "    \n",
    "    # loop over the data\n",
    "    for i in range(0, train_data_pixels.shape[0], batch_size):\n",
    "        # IMPORTANT:\n",
    "        # we must always call zero_grad() because each call to .backward()\n",
    "        # will accumulate the gradient!\n",
    "        optimizer.zero_grad()\n",
    "        \n",
    "        # batch of data\n",
    "        # shape: (n samples, 784)\n",
    "        # do you understand why n samples can be different of batch_size?\n",
    "        batch = train_data_pixels[i:i+batch_size]\n",
    "        \n",
    "        # compute the weights associate with each class for each picture\n",
    "        # logits shape: (n samples, 10)\n",
    "        logits = network(batch)\n",
    "        \n",
    "        # compute the loss\n",
    "        # look at the documentation of the function!\n",
    "        loss = F.cross_entropy(\n",
    "            logits,\n",
    "            train_data_classes[i:i+batch_size],\n",
    "            reduction=\"mean\"\n",
    "        )\n",
    "        \n",
    "        # to accumulate to the epoch loss,\n",
    "        # we need to call loss.item() so the value\n",
    "        # will detached from the computational graph,\n",
    "        # i.e. loss.item() is python float, not a pytorch object.\n",
    "        # can you understand why we multiply by batch_size.shape[0] ?\n",
    "        epoch_loss += loss.item() * batch.shape[0]\n",
    "        \n",
    "        loss.backward() # compute the gradient\n",
    "        optimizer.step() # update parameters of the model\n",
    "        \n",
    "    # at the end of each epoch, we eval on the dev data\n",
    "    network.eval()\n",
    "    n_dev_correct = 0\n",
    "    \n",
    "    # we don't need gradient computation during evaluation,\n",
    "    # so we enclose computation with torch.no_grad(),\n",
    "    # this will makes computation more efficient\n",
    "    with torch.no_grad():\n",
    "        for i in range(0, dev_data_pixels.shape[0], batch_size):\n",
    "            batch = dev_data_pixels[i:i+batch_size]\n",
    "            logits = network(batch)\n",
    "            \n",
    "            # compute the class of maximum weight for each sample,\n",
    "            # look at the documentation of argmax!\n",
    "            # pred shape: (n samples,)\n",
    "            pred = logits.argmax(1)\n",
    "            \n",
    "            # compare prediction with gold classes\n",
    "            n_dev_correct += (pred == dev_data_classes[i:i+batch_size]).sum().item()\n",
    "    \n",
    "    all_epoch_losses.append(epoch_loss)\n",
    "    all_epoch_accuracies.append(n_dev_correct / dev_data_classes.shape[0]) \n",
    "    print(\n",
    "        epoch, \":\\t\",\n",
    "        epoch_loss,# / len(train_data[0]),\n",
    "        \"\\t / dev precision:\\t\",\n",
    "        n_dev_correct / dev_data_classes.shape[0],\n",
    "        flush=True\n",
    "    )"
   ]
  },
  {
   "cell_type": "code",
   "execution_count": 79,
   "metadata": {},
   "outputs": [
    {
     "data": {
      "image/png": "[encoded data removed]",
      "text/plain": [
       "<Figure size 432x288 with 1 Axes>"
      ]
     },
     "metadata": {
      "needs_background": "light"
     },
     "output_type": "display_data"
    },
    {
     "data": {
      "image/png": "[encoded data removed]",
      "text/plain": [
       "<Figure size 432x288 with 1 Axes>"
      ]
     },
     "metadata": {
      "needs_background": "light"
     },
     "output_type": "display_data"
    }
   ],
   "source": [
    "# print graph to show how the loss and the accuracy evolve during training,\n",
    "# for example to see if we overfit the training data.\n",
    "# Note that MNIST is a really simple dataset, so its no really interesting in this case :)\n",
    "plt.plot(np.arange(n_epoch), all_epoch_losses)\n",
    "plt.show()\n",
    "\n",
    "plt.plot(np.arange(n_epoch), all_epoch_accuracies)\n",
    "plt.show()"
   ]
  },
  {
   "cell_type": "markdown",
   "metadata": {},
   "source": [
    "## 2. VAE with continuous latent space and binary observed space\n",
    "\n",
    "The first VAE that we will develop is based on the following generative story:\n",
    "\n",
    "1. $z \\sim p(z)$\n",
    "2. $x \\sim p(x | z ; \\theta)$\n",
    "\n",
    "where the latent random variable $Z$ takes value in $\\mathbb R^n$.\n",
    "The prior ditribution $p(z)$ is a multivariate Gaussian where each coordinate is independent.\n",
    "We fix the mean and variance of each coordinate to 0 and 1, respectively.\n",
    "The conditional distribution $p(x | z ; \\theta)$ is parameterized by a neural network.\n",
    "The random variables $X$ are $m$ independent Bernoulli random variables.\n",
    "\n",
    "Note: this kind of VAE will be quite bad at generating MNIST picture.\n",
    "Therefore, when you do you experiments, you should both generate picture and show the distribution $p(x | z ; \\theta)$ as a picture.\n",
    "This is a well known problem of VAE, you can try to play with the network architecture and the parameters to improve generation.\n",
    "However, hyperparameter optimization is not the goal of this lab exercise. :)\n",
    "Another solution would be to use Gaussian random variables for the output distribution, but we won't do that here."
   ]
  },
  {
   "cell_type": "markdown",
   "metadata": {},
   "source": [
    "<img src=\"images/vae.png\" width=\"400\">"
   ]
  },
  {
   "cell_type": "markdown",
   "metadata": {},
   "source": [
    "### KL divergence\n",
    "\n",
    "The first function we have to implement is the one that compute the KL divergence with the prior.\n",
    "You can find the formula in appendix B of the following paper: https://arxiv.org/pdf/1312.6114.pdf\n",
    "\n",
    "**WARNING:** In the paper they give the formula for the -KL, and here we want the KL, so don't forget to put a minus sign in front of their formula. :)"
   ]
  },
  {
   "cell_type": "markdown",
   "metadata": {},
   "source": [
    "$$\n",
    "\\begin{array}{l}\n",
    "\\tilde{\\mathcal{L}}^{B}\\left(\\boldsymbol{\\theta}, \\boldsymbol{\\phi} ; \\mathbf{x}^{(i)}\\right)=-D_{K L}\\left(q_{\\phi}\\left(\\mathbf{z} \\mid \\mathbf{x}^{(i)}\\right) \\| p_{\\boldsymbol{\\theta}}(\\mathbf{z})\\right)+\\frac{1}{L} \\sum_{l=1}^{L}\\left(\\log p_{\\boldsymbol{\\theta}}\\left(\\mathbf{x}^{(i)} \\mid \\mathbf{z}^{(i, l)}\\right)\\right) \\\\\n",
    "\\text { where } \\mathbf{z}^{(i, l)}=g_{\\phi}\\left(\\boldsymbol{\\epsilon}^{(i, l)}, \\mathbf{x}^{(i)}\\right) \\quad \\text { and } \\quad \\boldsymbol{\\epsilon}^{(l)} \\sim p(\\boldsymbol{\\epsilon})\n",
    "\\end{array}\n",
    "$$"
   ]
  },
  {
   "cell_type": "markdown",
   "metadata": {},
   "source": [
    "$$\n",
    "\\begin{array}{l}\n",
    "\\mathcal{L}\\left(\\boldsymbol{\\theta}, \\boldsymbol{\\phi} ; \\mathbf{x}^{(i)}\\right) \\simeq \\frac{1}{2} \\sum_{j=1}^{J}\\left(1+\\log \\left(\\left(\\sigma_{j}^{(i)}\\right)^{2}\\right)-\\left(\\mu_{j}^{(i)}\\right)^{2}-\\left(\\sigma_{j}^{(i)}\\right)^{2}\\right)+\\frac{1}{L} \\sum_{l=1}^{D} \\log p_{\\boldsymbol{\\theta}}\\left(\\mathbf{x}^{(i)} \\mid \\mathbf{z}^{(i, l)}\\right) \\\\\n",
    "\\text { where } \\mathbf{z}^{(i, l)}=\\boldsymbol{\\mu}^{(i)}+\\boldsymbol{\\sigma}^{(i)} \\odot \\boldsymbol{\\epsilon}^{(l)} \\quad \\text { and } \\boldsymbol{\\epsilon}^{(l)} \\sim \\mathcal{N}(0, \\mathbf{I})\n",
    "\\end{array}\n",
    "$$"
   ]
  },
  {
   "cell_type": "code",
   "execution_count": 80,
   "metadata": {},
   "outputs": [
    {
     "name": "stdout",
     "output_type": "stream",
     "text": [
      "return dim is ok.\n",
      "Should be 0: -0.0\n",
      "Should be 0.5: 0.5\n",
      "Should be 2.6945...: 2.694528102874756\n"
     ]
    }
   ],
   "source": [
    "# the shapes of mu and log_sigma_squared are: (n batch, n latent)\n",
    "# the return vector must be of shape: (n batch,)\n",
    "def KL_with_gaussian_prior(mu, log_sigma_squared):\n",
    "    temp = 1 + log_sigma_squared  - mu*mu - torch.exp(log_sigma_squared)\n",
    "    return -0.5*torch.sum(temp, dim=1)\n",
    "    \n",
    "# test for shape\n",
    "mu = torch.rand((10, 30))\n",
    "log_sigma_squared = torch.rand((10, 30))\n",
    "\n",
    "if KL_with_gaussian_prior(mu, log_sigma_squared).shape != (10, ):\n",
    "    raise RuntimeError(\"Invalid return dim!\")\n",
    "else:\n",
    "    print(\"return dim is ok.\")\n",
    "    \n",
    "# test for return value\n",
    "# result should be 0 as it is equal to the prior\n",
    "print(\"Should be 0:\", KL_with_gaussian_prior(torch.tensor([[0.]]), torch.tensor([[0.]])).item())\n",
    "print(\"Should be 0.5:\", KL_with_gaussian_prior(torch.tensor([[1.]]), torch.tensor([[0.]])).item())\n",
    "print(\"Should be 2.6945...:\", KL_with_gaussian_prior(torch.tensor([[1.]]), torch.tensor([[2.]])).item())"
   ]
  },
  {
   "cell_type": "markdown",
   "metadata": {},
   "source": [
    "### Network\n",
    "\n",
    "Next you need to code the encoder and the decoder.\n",
    "The encoder should return a tuple of tensors (mu, log_sigma_squared),\n",
    "both are unconstrained so they should be the output of a linear projection.\n",
    "The term log_sigma_squared means that the standard deviation can be computed via sigma=exp(0.5 * log_sigma_squared).\n",
    "Be sure you understand this.\n",
    "\n",
    "The structure of the encoder should be as follow:\n",
    "\n",
    "- one projection and non linearity (e.g. relu) to compute a hidden representation of the input,\n",
    "- two projections to compute my and log_sigma_squared from the same hidden representation.\n",
    "\n",
    "The structure of the decoder shoud be similar to the classifier above.\n",
    "Similarly to the encoder, the decoder should output unconstrained value, i.e. it does not directly return the mu parameters of the Bernoulli distribution, but values in R.\n",
    "In your code, if you need to get the distribution, you can call sigmoid(mu) to transform the unconstrained values to the mu parameters.\n",
    "\n",
    "- one projection and non linearity (e.g. relu) to compute a hidden representation of the input,\n",
    "- one projection to the output space\n",
    "\n",
    "The decode has two additional functions:\n",
    "\n",
    "- sample_distributions: it samples from the prior and return the conditional output distributions (so here it means that you **must** apply the sigmoid befaire returning)\n",
    "- sample_images: call sample_distributions and then sample images from the output distributions.\n",
    "\n",
    "To sample from a Bernoulli you can use the following function: https://pytorch.org/docs/stable/generated/torch.bernoulli.html\n",
    "To sample from the Gaussian prior, you can:\n",
    "\n",
    "- first create an empty tensor via https://pytorch.org/docs/stable/generated/torch.empty.html\n",
    "- then fill values in the tensor via https://pytorch.org/docs/stable/tensors.html#torch.Tensor.normal_\n",
    "\n",
    "This second function change a tensor in-place (hence the _ at the end of the name)"
   ]
  },
  {
   "cell_type": "code",
   "execution_count": 81,
   "metadata": {},
   "outputs": [],
   "source": [
    "class GaussianEncoder(nn.Module):\n",
    "    def __init__(self, input_dim, hidden_dim, output_dim):\n",
    "        super().__init__()\n",
    "        \n",
    "        \n",
    "        self.proj1 = nn.Linear(input_dim, hidden_dim)\n",
    "        self.proj2 = nn.Linear(hidden_dim, output_dim) # mean\n",
    "        self.proj3 = nn.Linear(hidden_dim, output_dim) # standard deviation\n",
    "        \n",
    "        \n",
    "\n",
    "    def forward(self, batch):\n",
    "        h1 = F.relu(self.proj1(batch))\n",
    "        return self.proj2(h1), self.proj3(h1)\n"
   ]
  },
  {
   "cell_type": "code",
   "execution_count": 82,
   "metadata": {},
   "outputs": [],
   "source": [
    "class GaussianPriorDecoder(nn.Module):\n",
    "    def __init__(self, input_dim, hidden_dim, output_dim):\n",
    "        super().__init__()\n",
    "        self.proj1 = nn.Linear(input_dim, hidden_dim)\n",
    "        self.proj2 = nn.Linear(hidden_dim, output_dim)\n",
    "        self.input_dim = input_dim\n",
    "\n",
    "    def forward(self, batch):\n",
    "        \n",
    "        hid = self.proj1(batch)\n",
    "        hid = F.relu(hid)\n",
    "        return self.proj2(hid)\n",
    "    \n",
    "    # n_samples: number of \"image output distribution\" to compute\n",
    "    def sample_distributions(self, n_samples):\n",
    "        # first you must sample from the prior,\n",
    "        # then you must pass the data through this network, i.e. self(z)\n",
    "        # shape of z: (n_samples, input_dim)\n",
    "        z = torch.empty(n_samples, self.input_dim)\n",
    "        z.normal_()\n",
    "        return torch.sigmoid(self.forward(z))\n",
    "    \n",
    "    # sample images\n",
    "    def sample_images(self, n_samples, argmax=False):\n",
    "        # compute the output distributions for each image\n",
    "        # probs shape: (n_samples, output_dim)\n",
    "        probs = self.sample_distributions(n_samples)\n",
    "        \n",
    "        # then sample output pixels\n",
    "        # there are two modes:\n",
    "        # argmax=False: sample from the output distribution\n",
    "        # argmax=True: instead of sampling, return the most probable value for each random variable\n",
    "        # (check how the images are converted to binary images above!)\n",
    "        \n",
    "\n",
    "        if argmax:\n",
    "            return 1*(probs >= 0.5)\n",
    "        else:\n",
    "            return probs "
   ]
  },
  {
   "cell_type": "markdown",
   "metadata": {},
   "source": [
    "### Training loop\n",
    "\n",
    "I did most of the work, you just need to implement ont thing: the reparameterization trick! :)"
   ]
  },
  {
   "cell_type": "code",
   "execution_count": 83,
   "metadata": {},
   "outputs": [
    {
     "name": "stdout",
     "output_type": "stream",
     "text": [
      "0 :\t -183.69067001953124 \t 4.988352776079178\n",
      "1 :\t -157.6612671484375 \t 5.311374590454101\n",
      "2 :\t -153.6874954296875 \t 5.470332686767578\n",
      "3 :\t -150.9830120703125 \t 5.588300357666015\n",
      "4 :\t -149.1219974609375 \t 5.69280802734375\n",
      "5 :\t -147.66409546875 \t 5.7712354748535155\n",
      "6 :\t -146.33855763671875 \t 5.84951572265625\n",
      "7 :\t -145.25959486328125 \t 5.915745234375\n",
      "8 :\t -144.2910834765625 \t 5.9622307580566405\n",
      "9 :\t -143.4780416796875 \t 5.9885618176269535\n",
      "10 :\t -142.7483305078125 \t 6.024494137573242\n",
      "11 :\t -142.10697220703125 \t 6.071862843017578\n",
      "12 :\t -141.5263779296875 \t 6.096071432495117\n",
      "13 :\t -140.998809375 \t 6.132042177124023\n",
      "14 :\t -140.5829852734375 \t 6.144742600097656\n",
      "15 :\t -140.0769376953125 \t 6.1689829077148435\n",
      "16 :\t -139.72836533203125 \t 6.19339123413086\n",
      "17 :\t -139.26621916015625 \t 6.2107227075195315\n",
      "18 :\t -138.9704711328125 \t 6.221996956787109\n",
      "19 :\t -138.706443125 \t 6.244944565429687\n"
     ]
    }
   ],
   "source": [
    "\n",
    "\n",
    "dim_input = 28*28\n",
    "latent_dim = 2 # we use only 2 dimensions so we can plot them!\n",
    "hidden_dim = 800\n",
    "n_epoch = 20\n",
    "batch_dim = 256\n",
    "\n",
    "encoder = GaussianEncoder(dim_input, hidden_dim, latent_dim)\n",
    "decoder = GaussianPriorDecoder(latent_dim, hidden_dim, dim_input)\n",
    "\n",
    "# we must pass both network parameters to the optimizer\n",
    "# sometime its also useful to use two different optimizers,\n",
    "# for example if we want to use different learning rates.\n",
    "optimizer = torch.optim.Adam(list(encoder.parameters()) + list(decoder.parameters()))\n",
    "\n",
    "for epoch in range(n_epoch):\n",
    "    epoch_reconstruction = 0\n",
    "    epoch_kl = 0\n",
    "\n",
    "    decoder.train()\n",
    "    encoder.train()\n",
    "    for i in range(0, train_data_pixels.shape[0], batch_dim): \n",
    "        optimizer.zero_grad()\n",
    "        \n",
    "        batch = train_data_pixels[i:i+batch_dim]\n",
    "        \n",
    "        # compute parameters of the approximate posterior\n",
    "        mu, log_sigma_squared = encoder(batch)\n",
    "        \n",
    "        # for MC sampling of the reconstruction loss,\n",
    "        # we use one sample from the approximate posterior.\n",
    "        # you need to use the reparameterization trick for this!\n",
    "        # in order to sample from the the N(0, 1) distribution,\n",
    "        # you can use:\n",
    "        # torch.empty_like(mu).normal_(mean=0.,std=1.)\n",
    "        # (check the documentation if you don't understand this!)\n",
    "        \n",
    "        \n",
    "        std = torch.exp(0.5*log_sigma_squared)\n",
    "        eps = torch.randn_like(std)\n",
    "        z =  mu + eps*std\n",
    "        \n",
    "        # reconstruction_logits: (batches, classes, output size)\n",
    "        # note that the output of the network is in R,\n",
    "        # to get Bernoulli parameters you must use the sigmoid.\n",
    "        # For the reconstruction loss, you can either use:\n",
    "        # - F.binary_cross_entropy_with_logits\n",
    "        # - F.entropy_with_logits\n",
    "        # Read the doc in order to understand the difference!\n",
    "        # Warning: use the reduction=\"none\" parameter\n",
    "        reconstruction_logits = decoder(z)\n",
    "        reconstruction_loss = F.binary_cross_entropy_with_logits(\n",
    "            reconstruction_logits,\n",
    "            batch,\n",
    "            reduction=\"none\"\n",
    "        )\n",
    "        \n",
    "        kl_div = KL_with_gaussian_prior(mu, log_sigma_squared)\n",
    "        \n",
    "        # loss shape: (batch dim,)\n",
    "        # do you understand why we sum along this dimension only?\n",
    "        # there is a minus sign before reconstruction because\n",
    "        # the loss formula is -log etc, but in the elbo its +log\n",
    "        elbo = -reconstruction_loss.sum(1) - kl_div\n",
    "        \n",
    "        epoch_reconstruction += -reconstruction_loss.sum().item()\n",
    "        epoch_kl += kl_div.sum().item()\n",
    "        \n",
    "        # we want to maximize the ELBO,\n",
    "        # but Pytorch does minimization,\n",
    "        # so we define our loss as -ELBO\n",
    "        # and we mean over instances in the dataset\n",
    "        loss = -elbo.mean()\n",
    "        loss.backward()\n",
    "        \n",
    "        # optimization trick :)\n",
    "        # gradient clipping, so we don't take too big updates\n",
    "        torch.nn.utils.clip_grad_norm_(encoder.parameters(), 5)\n",
    "        torch.nn.utils.clip_grad_norm_(decoder.parameters(), 5)\n",
    "        \n",
    "        optimizer.step()\n",
    "        \n",
    "    print(\n",
    "        epoch, \":\\t\",\n",
    "        epoch_reconstruction / train_data_pixels.shape[0],\n",
    "        \"\\t\",\n",
    "        epoch_kl / train_data_pixels.shape[0]\n",
    "    )\n",
    "\n"
   ]
  },
  {
   "cell_type": "markdown",
   "metadata": {},
   "source": [
    "We can now visualize the output distribution from random prior samples and generate new images."
   ]
  },
  {
   "cell_type": "code",
   "execution_count": 84,
   "metadata": {},
   "outputs": [
    {
     "data": {
      "image/png": "[encoded data removed]",
      "text/plain": [
       "<Figure size 432x288 with 1 Axes>"
      ]
     },
     "metadata": {
      "needs_background": "light"
     },
     "output_type": "display_data"
    },
    {
     "data": {
      "image/png": "[encoded data removed]",
      "text/plain": [
       "<Figure size 432x288 with 1 Axes>"
      ]
     },
     "metadata": {
      "needs_background": "light"
     },
     "output_type": "display_data"
    },
    {
     "data": {
      "image/png": "[encoded data removed]",
      "text/plain": [
       "<Figure size 432x288 with 1 Axes>"
      ]
     },
     "metadata": {
      "needs_background": "light"
     },
     "output_type": "display_data"
    },
    {
     "data": {
      "image/png": "[encoded data removed]",
      "text/plain": [
       "<Figure size 432x288 with 1 Axes>"
      ]
     },
     "metadata": {
      "needs_background": "light"
     },
     "output_type": "display_data"
    },
    {
     "data": {
      "image/png": "[encoded data removed]",
      "text/plain": [
       "<Figure size 432x288 with 1 Axes>"
      ]
     },
     "metadata": {
      "needs_background": "light"
     },
     "output_type": "display_data"
    }
   ],
   "source": [
    "decoder.eval()\n",
    "\n",
    "with torch.no_grad():\n",
    "    # you can try true samples\n",
    "    # or useing argmax\n",
    "    samples = decoder.sample_distributions(5)\n",
    "    display_images(samples)"
   ]
  },
  {
   "cell_type": "code",
   "execution_count": 85,
   "metadata": {},
   "outputs": [
    {
     "data": {
      "image/png": "[encoded data removed]",
      "text/plain": [
       "<Figure size 432x288 with 1 Axes>"
      ]
     },
     "metadata": {
      "needs_background": "light"
     },
     "output_type": "display_data"
    },
    {
     "data": {
      "image/png": "[encoded data removed]",
      "text/plain": [
       "<Figure size 432x288 with 1 Axes>"
      ]
     },
     "metadata": {
      "needs_background": "light"
     },
     "output_type": "display_data"
    },
    {
     "data": {
      "image/png": "[encoded data removed]",
      "text/plain": [
       "<Figure size 432x288 with 1 Axes>"
      ]
     },
     "metadata": {
      "needs_background": "light"
     },
     "output_type": "display_data"
    },
    {
     "data": {
      "image/png": "[encoded data removed]",
      "text/plain": [
       "<Figure size 432x288 with 1 Axes>"
      ]
     },
     "metadata": {
      "needs_background": "light"
     },
     "output_type": "display_data"
    },
    {
     "data": {
      "image/png": "[encoded data removed]",
      "text/plain": [
       "<Figure size 432x288 with 1 Axes>"
      ]
     },
     "metadata": {
      "needs_background": "light"
     },
     "output_type": "display_data"
    }
   ],
   "source": [
    "decoder.eval()\n",
    "\n",
    "with torch.no_grad():\n",
    "    # you can try true samples\n",
    "    # or useing argmax\n",
    "    samples = decoder.sample_images(5, argmax=False)\n",
    "    display_images(samples)"
   ]
  },
  {
   "cell_type": "markdown",
   "metadata": {},
   "source": [
    "Using the approximate posterior, we can visualize the latent space, by assigning one color per digit.\n",
    "What we display is the mean value.\n",
    "For a well trained model, we should see all points close to 0 and each class should be well delimited, i.e. there must be clusters of the same color.\n",
    "\n",
    "If your samples and latent space are ugly, you could try to improve your model by:\n",
    "\n",
    "- change the learning hyperparameters\n",
    "- add/remove dropout\n",
    "- change the network structure (number and size of layers, dropout...)\n",
    "\n",
    "Note that if you want to visualize a latent space when its dimension is greater than two, you could project it in 2 dimensions using PCA (its already implemented in scikit-learn!)"
   ]
  },
  {
   "cell_type": "code",
   "execution_count": 86,
   "metadata": {},
   "outputs": [
    {
     "data": {
      "image/png": "[encoded data removed]",
      "text/plain": [
       "<Figure size 432x288 with 1 Axes>"
      ]
     },
     "metadata": {
      "needs_background": "light"
     },
     "output_type": "display_data"
    }
   ],
   "source": [
    "decoder.eval()\n",
    "\n",
    "# tensor that will contain all latent points\n",
    "points = np.empty((train_data_pixels.shape[0], 2))\n",
    "with torch.no_grad():\n",
    "    for i in range(0, train_data_pixels.shape[0], batch_dim): \n",
    "        batch = train_data_pixels[i:i+batch_dim]\n",
    "        mu, _ = encoder(batch)\n",
    "        points[i:i+batch_dim] = mu.numpy()\n",
    "\n",
    "plt.scatter(\n",
    "    points[:,0], points[:, 1],\n",
    "    # colormap is between 0 and 1, and we have 10 classes\n",
    "    # so we just divide by 10 :)\n",
    "    # https://matplotlib.org/3.1.1/tutorials/colors/colormaps.html\n",
    "    c=matplotlib.cm.get_cmap(\"tab10\")(train_data_classes / 10.)\n",
    ")\n",
    "plt.show()"
   ]
  },
  {
   "cell_type": "markdown",
   "metadata": {},
   "source": [
    "## 3. VAE with binary latent space and binary observed space\n",
    "\n",
    "The second VAE that we will develop is based on the same generative story:\n",
    "\n",
    "1. $z \\sim p(z)$\n",
    "2. $x \\sim p(x | z ; \\theta)$\n",
    "\n",
    "but where the latent variable $Z$ are independent Bernoulli random variables.\n",
    "See the last video from the course to understand how this change the model.\n",
    "\n",
    "### Architecture\n",
    "\n",
    "How many values should the encoder return? What is the difference with the previous encoder?"
   ]
  },
  {
   "cell_type": "code",
   "execution_count": 89,
   "metadata": {},
   "outputs": [],
   "source": [
    "class BernoulliEncoder(nn.Module):\n",
    "    def __init__(self, input_dim, hidden_dim, output_dim):\n",
    "        super().__init__()\n",
    "        self.proj1 = nn.Linear(input_dim, hidden_dim)\n",
    "        self.proj2 = nn.Linear(hidden_dim, output_dim)\n",
    "\n",
    "    def forward(self, batch):\n",
    "        hid = self.proj1(batch)\n",
    "        hid = F.relu(hid)\n",
    "        return self.proj2(hid)"
   ]
  },
  {
   "cell_type": "code",
   "execution_count": 90,
   "metadata": {},
   "outputs": [],
   "source": [
    "class BernoulliPriorDecoder(nn.Module):\n",
    "    def __init__(self, input_dim, hidden_dim, output_dim):\n",
    "        super().__init__()\n",
    "        self.proj1 = nn.Linear(input_dim, hidden_dim)\n",
    "        self.proj2 = nn.Linear(hidden_dim, output_dim)\n",
    "        self.input_dim = input_dim\n",
    "\n",
    "    def forward(self, batch):\n",
    "        hid = self.proj1(batch)\n",
    "        hid = F.relu(hid)\n",
    "        return self.proj2(hid)\n",
    "\n",
    "    def sample_distributions(self, n_samples):\n",
    "        \n",
    "        z = torch.empty(n_samples, self.input_dim)\n",
    "        z = torch.bernoulli(z)\n",
    "        \n",
    "        return self.sigmoid(self.forward(z))\n",
    "    \n",
    "    # sample images\n",
    "    def sample_images(self, n_samples, argmax=False):\n",
    "        # compute the output distributions for each image\n",
    "        # probs shape: (n_samples, output_dim)\n",
    "        probs = self.sample_distributions(n_samples)\n",
    "\n",
    "        if argmax == False:\n",
    "            return probs\n",
    "        else:\n",
    "            return 1*(probs >= 0.5)\n",
    "        \n",
    "        # then sample output pixels\n",
    "        # there are two modes:\n",
    "        # argmax=False: sample from the output distribution\n",
    "        # argmax=True: instead of sampling, return the most probable value for each random variable\n",
    "        # (check how the images are converted to binary images above!)"
   ]
  },
  {
   "cell_type": "markdown",
   "metadata": {},
   "source": [
    "### KL divergence\n",
    "\n",
    "We assume the prior are Bernoullis with parameter 0.5, i.e. the probability to sample 0 or 1 are equals (\"fait coin\" probability).\n",
    "What the formula of the KL divergence? How does it simplify?\n",
    "\n",
    "Hint: you should see an entropy term in it that you can compute via https://pytorch.org/docs/stable/distributions.html#torch.distributions.bernoulli.Bernoulli.entropy"
   ]
  },
  {
   "cell_type": "code",
   "execution_count": 142,
   "metadata": {},
   "outputs": [
    {
     "name": "stdout",
     "output_type": "stream",
     "text": [
      "return dim is ok.\n",
      "Should be 0: 0.6931471824645996\n",
      "Should be 0.693...: 1.1920930376163597e-07\n"
     ]
    }
   ],
   "source": [
    "\n",
    "\n",
    "# the return vector must be of shape: (n batch,)\n",
    "import math\n",
    "\n",
    "def KL_with_bernoulli_prior(probs):\n",
    "    m = torch.distributions.Categorical(probs)\n",
    "    x = m.sample()\n",
    "    \n",
    "    loss = -m.log_prob(x)\n",
    "    return loss\n",
    "\n",
    "# test for shape\n",
    "probs = torch.rand((10, 30))\n",
    "\n",
    "if KL_with_bernoulli_prior(probs).shape != (10, ):\n",
    "    raise RuntimeError(\"Invalid return dim!\")\n",
    "else:\n",
    "    print(\"return dim is ok.\")\n",
    "    \n",
    "# test for return value\n",
    "# result should be 0 as it is equal to the prior\n",
    "print(\"Should be 0:\", KL_with_bernoulli_prior(torch.tensor([[0.5, 0.5]])).item())\n",
    "print(\"Should be 0.693...:\", KL_with_bernoulli_prior(torch.tensor([[1.]])).item())\n",
    "\n"
   ]
  },
  {
   "cell_type": "markdown",
   "metadata": {},
   "source": [
    "### Training loop\n",
    "\n",
    "This time I let you on your own! :) \n",
    "Remember that you need to use the Score Function Estimator trick! (see the last video of the course)\n",
    "\n",
    "You need to use a baseline to stabilize the variance of the estimator.\n",
    "Here, we will rely on the average reconstruction value from all previous update.\n",
    "You can easily store it and compute it using the running average trick:"
   ]
  },
  {
   "cell_type": "code",
   "execution_count": 143,
   "metadata": {},
   "outputs": [
    {
     "name": "stdout",
     "output_type": "stream",
     "text": [
      "7.0\n",
      "7.0\n"
     ]
    }
   ],
   "source": [
    "n1 = 5\n",
    "n2 = 10\n",
    "n3 = 1\n",
    "n4 = 12\n",
    "\n",
    "print((n1 + n2 + n3 + n4) / 4)\n",
    "\n",
    "running_average = 0\n",
    "\n",
    "# after the first parameter update\n",
    "n_updates = 1\n",
    "running_average += (n1 - running_average) / n_updates\n",
    "\n",
    "# after the second parameter update\n",
    "n_updates += 1\n",
    "running_average += (n2 - running_average) / n_updates\n",
    "\n",
    "# etc etc\n",
    "n_updates += 1\n",
    "running_average += (n3 - running_average) / n_updates\n",
    "\n",
    "n_updates += 1\n",
    "running_average += (n4 - running_average) / n_updates\n",
    "\n",
    "# should be equal to the previous printed value!\n",
    "print(running_average)"
   ]
  },
  {
   "cell_type": "code",
   "execution_count": 146,
   "metadata": {},
   "outputs": [
    {
     "ename": "RuntimeError",
     "evalue": "Trying to backward through the graph a second time, but the saved intermediate results have already been freed. Specify retain_graph=True when calling backward the first time.",
     "output_type": "error",
     "traceback": [
      "\u001b[0;31m---------------------------------------------------------------------------\u001b[0m",
      "\u001b[0;31mRuntimeError\u001b[0m                              Traceback (most recent call last)",
      "\u001b[0;32m<ipython-input-146-d2f4dfd77d24>\u001b[0m in \u001b[0;36m<module>\u001b[0;34m\u001b[0m\n\u001b[1;32m     29\u001b[0m \u001b[0;34m\u001b[0m\u001b[0m\n\u001b[1;32m     30\u001b[0m \u001b[0;34m\u001b[0m\u001b[0m\n\u001b[0;32m---> 31\u001b[0;31m         \u001b[0mloss\u001b[0m\u001b[0;34m.\u001b[0m\u001b[0mbackward\u001b[0m\u001b[0;34m(\u001b[0m\u001b[0;34m)\u001b[0m\u001b[0;34m\u001b[0m\u001b[0;34m\u001b[0m\u001b[0m\n\u001b[0m\u001b[1;32m     32\u001b[0m         \u001b[0mtorch\u001b[0m\u001b[0;34m.\u001b[0m\u001b[0mnn\u001b[0m\u001b[0;34m.\u001b[0m\u001b[0mutils\u001b[0m\u001b[0;34m.\u001b[0m\u001b[0mclip_grad_norm_\u001b[0m\u001b[0;34m(\u001b[0m\u001b[0mencoder\u001b[0m\u001b[0;34m.\u001b[0m\u001b[0mparameters\u001b[0m\u001b[0;34m(\u001b[0m\u001b[0;34m)\u001b[0m\u001b[0;34m,\u001b[0m \u001b[0;36m5\u001b[0m\u001b[0;34m)\u001b[0m\u001b[0;34m\u001b[0m\u001b[0;34m\u001b[0m\u001b[0m\n\u001b[1;32m     33\u001b[0m         \u001b[0mtorch\u001b[0m\u001b[0;34m.\u001b[0m\u001b[0mnn\u001b[0m\u001b[0;34m.\u001b[0m\u001b[0mutils\u001b[0m\u001b[0;34m.\u001b[0m\u001b[0mclip_grad_norm_\u001b[0m\u001b[0;34m(\u001b[0m\u001b[0mdecoder\u001b[0m\u001b[0;34m.\u001b[0m\u001b[0mparameters\u001b[0m\u001b[0;34m(\u001b[0m\u001b[0;34m)\u001b[0m\u001b[0;34m,\u001b[0m \u001b[0;36m5\u001b[0m\u001b[0;34m)\u001b[0m\u001b[0;34m\u001b[0m\u001b[0;34m\u001b[0m\u001b[0m\n",
      "\u001b[0;32m~/anaconda3/lib/python3.7/site-packages/torch/tensor.py\u001b[0m in \u001b[0;36mbackward\u001b[0;34m(self, gradient, retain_graph, create_graph)\u001b[0m\n\u001b[1;32m    183\u001b[0m                 \u001b[0mproducts\u001b[0m\u001b[0;34m.\u001b[0m \u001b[0mDefaults\u001b[0m \u001b[0mto\u001b[0m\u001b[0;31m \u001b[0m\u001b[0;31m`\u001b[0m\u001b[0;31m`\u001b[0m\u001b[0;32mFalse\u001b[0m\u001b[0;31m`\u001b[0m\u001b[0;31m`\u001b[0m\u001b[0;34m.\u001b[0m\u001b[0;34m\u001b[0m\u001b[0;34m\u001b[0m\u001b[0m\n\u001b[1;32m    184\u001b[0m         \"\"\"\n\u001b[0;32m--> 185\u001b[0;31m         \u001b[0mtorch\u001b[0m\u001b[0;34m.\u001b[0m\u001b[0mautograd\u001b[0m\u001b[0;34m.\u001b[0m\u001b[0mbackward\u001b[0m\u001b[0;34m(\u001b[0m\u001b[0mself\u001b[0m\u001b[0;34m,\u001b[0m \u001b[0mgradient\u001b[0m\u001b[0;34m,\u001b[0m \u001b[0mretain_graph\u001b[0m\u001b[0;34m,\u001b[0m \u001b[0mcreate_graph\u001b[0m\u001b[0;34m)\u001b[0m\u001b[0;34m\u001b[0m\u001b[0;34m\u001b[0m\u001b[0m\n\u001b[0m\u001b[1;32m    186\u001b[0m \u001b[0;34m\u001b[0m\u001b[0m\n\u001b[1;32m    187\u001b[0m     \u001b[0;32mdef\u001b[0m \u001b[0mregister_hook\u001b[0m\u001b[0;34m(\u001b[0m\u001b[0mself\u001b[0m\u001b[0;34m,\u001b[0m \u001b[0mhook\u001b[0m\u001b[0;34m)\u001b[0m\u001b[0;34m:\u001b[0m\u001b[0;34m\u001b[0m\u001b[0;34m\u001b[0m\u001b[0m\n",
      "\u001b[0;32m~/anaconda3/lib/python3.7/site-packages/torch/autograd/__init__.py\u001b[0m in \u001b[0;36mbackward\u001b[0;34m(tensors, grad_tensors, retain_graph, create_graph, grad_variables)\u001b[0m\n\u001b[1;32m    125\u001b[0m     Variable._execution_engine.run_backward(\n\u001b[1;32m    126\u001b[0m         \u001b[0mtensors\u001b[0m\u001b[0;34m,\u001b[0m \u001b[0mgrad_tensors\u001b[0m\u001b[0;34m,\u001b[0m \u001b[0mretain_graph\u001b[0m\u001b[0;34m,\u001b[0m \u001b[0mcreate_graph\u001b[0m\u001b[0;34m,\u001b[0m\u001b[0;34m\u001b[0m\u001b[0;34m\u001b[0m\u001b[0m\n\u001b[0;32m--> 127\u001b[0;31m         allow_unreachable=True)  # allow_unreachable flag\n\u001b[0m\u001b[1;32m    128\u001b[0m \u001b[0;34m\u001b[0m\u001b[0m\n\u001b[1;32m    129\u001b[0m \u001b[0;34m\u001b[0m\u001b[0m\n",
      "\u001b[0;31mRuntimeError\u001b[0m: Trying to backward through the graph a second time, but the saved intermediate results have already been freed. Specify retain_graph=True when calling backward the first time."
     ]
    }
   ],
   "source": [
    "dim_input = 28*28\n",
    "latent = 64\n",
    "hidden_dim = 400\n",
    "n_epoch = 50\n",
    "batch_dim = 256\n",
    "\n",
    "encoder = BernoulliEncoder(dim_input, hidden_dim, latent)\n",
    "decoder = BernoulliPriorDecoder(latent, hidden_dim, dim_input)\n",
    "optimizer = torch.optim.Adam(list(encoder.parameters()) + list(decoder.parameters()))\n",
    "\n",
    "running_avg = 0  # to control the variance of the SFE\n",
    "n_updates = 0\n",
    "for epoch in range(n_epoch):\n",
    "    epoch_reconstruction = 0\n",
    "    epoch_kl = 0\n",
    "    \n",
    "    decoder.train()\n",
    "    encoder.train()\n",
    "    for i in range(0, train_data_pixels.shape[0], batch_dim): \n",
    "        optimizer.zero_grad()\n",
    "        \n",
    "        batch = train_data_pixels[i:i+batch_dim]\n",
    "        \n",
    "        #\n",
    "        #\n",
    "        # TODO TODO TODO TODO TODO\n",
    "        #\n",
    "        #\n",
    "        \n",
    "        \n",
    "        loss.backward()\n",
    "        torch.nn.utils.clip_grad_norm_(encoder.parameters(), 5)\n",
    "        torch.nn.utils.clip_grad_norm_(decoder.parameters(), 5)\n",
    "        optimizer.step()\n",
    "        n_updates += 1\n",
    "        \n",
    "        # update the running_avg\n",
    "        #\n",
    "        #\n",
    "        # TODO TODO TODO TODO TODO\n",
    "        #\n",
    "        #\n",
    "\n",
    "        \n",
    "    print(\n",
    "        epoch, \":\\t\",\n",
    "        epoch_reconstruction / train_data_pixels.shape[0],\n",
    "        \"\\t\",\n",
    "        epoch_kl / train_data_pixels.shape[0],\n",
    "    )"
   ]
  },
  {
   "cell_type": "markdown",
   "metadata": {},
   "source": [
    "We can now visualize the trained model. :) "
   ]
  },
  {
   "cell_type": "code",
   "execution_count": 147,
   "metadata": {},
   "outputs": [
    {
     "ename": "RuntimeError",
     "evalue": "Expected p_in >= 0 && p_in <= 1 to be true, but got false.  (Could this error message be improved?  If so, please report an enhancement request to PyTorch.)",
     "output_type": "error",
     "traceback": [
      "\u001b[0;31m---------------------------------------------------------------------------\u001b[0m",
      "\u001b[0;31mRuntimeError\u001b[0m                              Traceback (most recent call last)",
      "\u001b[0;32m<ipython-input-147-131bb4699137>\u001b[0m in \u001b[0;36m<module>\u001b[0;34m\u001b[0m\n\u001b[1;32m      2\u001b[0m \u001b[0;34m\u001b[0m\u001b[0m\n\u001b[1;32m      3\u001b[0m \u001b[0;32mwith\u001b[0m \u001b[0mtorch\u001b[0m\u001b[0;34m.\u001b[0m\u001b[0mno_grad\u001b[0m\u001b[0;34m(\u001b[0m\u001b[0;34m)\u001b[0m\u001b[0;34m:\u001b[0m\u001b[0;34m\u001b[0m\u001b[0;34m\u001b[0m\u001b[0m\n\u001b[0;32m----> 4\u001b[0;31m     \u001b[0msamples\u001b[0m \u001b[0;34m=\u001b[0m \u001b[0mdecoder\u001b[0m\u001b[0;34m.\u001b[0m\u001b[0msample_distributions\u001b[0m\u001b[0;34m(\u001b[0m\u001b[0;36m5\u001b[0m\u001b[0;34m)\u001b[0m\u001b[0;34m\u001b[0m\u001b[0;34m\u001b[0m\u001b[0m\n\u001b[0m\u001b[1;32m      5\u001b[0m     \u001b[0mdisplay_images\u001b[0m\u001b[0;34m(\u001b[0m\u001b[0msamples\u001b[0m\u001b[0;34m)\u001b[0m\u001b[0;34m\u001b[0m\u001b[0;34m\u001b[0m\u001b[0m\n",
      "\u001b[0;32m<ipython-input-90-94f37abc1607>\u001b[0m in \u001b[0;36msample_distributions\u001b[0;34m(self, n_samples)\u001b[0m\n\u001b[1;32m     14\u001b[0m \u001b[0;34m\u001b[0m\u001b[0m\n\u001b[1;32m     15\u001b[0m         \u001b[0mz\u001b[0m \u001b[0;34m=\u001b[0m \u001b[0mtorch\u001b[0m\u001b[0;34m.\u001b[0m\u001b[0mempty\u001b[0m\u001b[0;34m(\u001b[0m\u001b[0mn_samples\u001b[0m\u001b[0;34m,\u001b[0m \u001b[0mself\u001b[0m\u001b[0;34m.\u001b[0m\u001b[0minput_dim\u001b[0m\u001b[0;34m)\u001b[0m\u001b[0;34m\u001b[0m\u001b[0;34m\u001b[0m\u001b[0m\n\u001b[0;32m---> 16\u001b[0;31m         \u001b[0mz\u001b[0m \u001b[0;34m=\u001b[0m \u001b[0mtorch\u001b[0m\u001b[0;34m.\u001b[0m\u001b[0mbernoulli\u001b[0m\u001b[0;34m(\u001b[0m\u001b[0mz\u001b[0m\u001b[0;34m)\u001b[0m\u001b[0;34m\u001b[0m\u001b[0;34m\u001b[0m\u001b[0m\n\u001b[0m\u001b[1;32m     17\u001b[0m \u001b[0;34m\u001b[0m\u001b[0m\n\u001b[1;32m     18\u001b[0m         \u001b[0;32mreturn\u001b[0m \u001b[0mself\u001b[0m\u001b[0;34m.\u001b[0m\u001b[0msigmoid\u001b[0m\u001b[0;34m(\u001b[0m\u001b[0mself\u001b[0m\u001b[0;34m.\u001b[0m\u001b[0mforward\u001b[0m\u001b[0;34m(\u001b[0m\u001b[0mz\u001b[0m\u001b[0;34m)\u001b[0m\u001b[0;34m)\u001b[0m\u001b[0;34m\u001b[0m\u001b[0;34m\u001b[0m\u001b[0m\n",
      "\u001b[0;31mRuntimeError\u001b[0m: Expected p_in >= 0 && p_in <= 1 to be true, but got false.  (Could this error message be improved?  If so, please report an enhancement request to PyTorch.)"
     ]
    }
   ],
   "source": [
    "decoder.eval()\n",
    "\n",
    "with torch.no_grad():\n",
    "    samples = decoder.sample_distributions(5)\n",
    "    display_images(samples)"
   ]
  },
  {
   "cell_type": "code",
   "execution_count": 148,
   "metadata": {},
   "outputs": [
    {
     "ename": "RuntimeError",
     "evalue": "Expected p_in >= 0 && p_in <= 1 to be true, but got false.  (Could this error message be improved?  If so, please report an enhancement request to PyTorch.)",
     "output_type": "error",
     "traceback": [
      "\u001b[0;31m---------------------------------------------------------------------------\u001b[0m",
      "\u001b[0;31mRuntimeError\u001b[0m                              Traceback (most recent call last)",
      "\u001b[0;32m<ipython-input-148-a2a1ffa703ae>\u001b[0m in \u001b[0;36m<module>\u001b[0;34m\u001b[0m\n\u001b[1;32m      4\u001b[0m     \u001b[0;31m# you can try true samples\u001b[0m\u001b[0;34m\u001b[0m\u001b[0;34m\u001b[0m\u001b[0;34m\u001b[0m\u001b[0m\n\u001b[1;32m      5\u001b[0m     \u001b[0;31m# or useing argmax\u001b[0m\u001b[0;34m\u001b[0m\u001b[0;34m\u001b[0m\u001b[0;34m\u001b[0m\u001b[0m\n\u001b[0;32m----> 6\u001b[0;31m     \u001b[0msamples\u001b[0m \u001b[0;34m=\u001b[0m \u001b[0mdecoder\u001b[0m\u001b[0;34m.\u001b[0m\u001b[0msample_images\u001b[0m\u001b[0;34m(\u001b[0m\u001b[0;36m5\u001b[0m\u001b[0;34m,\u001b[0m \u001b[0margmax\u001b[0m\u001b[0;34m=\u001b[0m\u001b[0;32mTrue\u001b[0m\u001b[0;34m)\u001b[0m\u001b[0;34m\u001b[0m\u001b[0;34m\u001b[0m\u001b[0m\n\u001b[0m\u001b[1;32m      7\u001b[0m     \u001b[0mdisplay_images\u001b[0m\u001b[0;34m(\u001b[0m\u001b[0msamples\u001b[0m\u001b[0;34m)\u001b[0m\u001b[0;34m\u001b[0m\u001b[0;34m\u001b[0m\u001b[0m\n",
      "\u001b[0;32m<ipython-input-90-94f37abc1607>\u001b[0m in \u001b[0;36msample_images\u001b[0;34m(self, n_samples, argmax)\u001b[0m\n\u001b[1;32m     22\u001b[0m         \u001b[0;31m# compute the output distributions for each image\u001b[0m\u001b[0;34m\u001b[0m\u001b[0;34m\u001b[0m\u001b[0;34m\u001b[0m\u001b[0m\n\u001b[1;32m     23\u001b[0m         \u001b[0;31m# probs shape: (n_samples, output_dim)\u001b[0m\u001b[0;34m\u001b[0m\u001b[0;34m\u001b[0m\u001b[0;34m\u001b[0m\u001b[0m\n\u001b[0;32m---> 24\u001b[0;31m         \u001b[0mprobs\u001b[0m \u001b[0;34m=\u001b[0m \u001b[0mself\u001b[0m\u001b[0;34m.\u001b[0m\u001b[0msample_distributions\u001b[0m\u001b[0;34m(\u001b[0m\u001b[0mn_samples\u001b[0m\u001b[0;34m)\u001b[0m\u001b[0;34m\u001b[0m\u001b[0;34m\u001b[0m\u001b[0m\n\u001b[0m\u001b[1;32m     25\u001b[0m \u001b[0;34m\u001b[0m\u001b[0m\n\u001b[1;32m     26\u001b[0m         \u001b[0;32mif\u001b[0m \u001b[0margmax\u001b[0m \u001b[0;34m==\u001b[0m \u001b[0;32mFalse\u001b[0m\u001b[0;34m:\u001b[0m\u001b[0;34m\u001b[0m\u001b[0;34m\u001b[0m\u001b[0m\n",
      "\u001b[0;32m<ipython-input-90-94f37abc1607>\u001b[0m in \u001b[0;36msample_distributions\u001b[0;34m(self, n_samples)\u001b[0m\n\u001b[1;32m     14\u001b[0m \u001b[0;34m\u001b[0m\u001b[0m\n\u001b[1;32m     15\u001b[0m         \u001b[0mz\u001b[0m \u001b[0;34m=\u001b[0m \u001b[0mtorch\u001b[0m\u001b[0;34m.\u001b[0m\u001b[0mempty\u001b[0m\u001b[0;34m(\u001b[0m\u001b[0mn_samples\u001b[0m\u001b[0;34m,\u001b[0m \u001b[0mself\u001b[0m\u001b[0;34m.\u001b[0m\u001b[0minput_dim\u001b[0m\u001b[0;34m)\u001b[0m\u001b[0;34m\u001b[0m\u001b[0;34m\u001b[0m\u001b[0m\n\u001b[0;32m---> 16\u001b[0;31m         \u001b[0mz\u001b[0m \u001b[0;34m=\u001b[0m \u001b[0mtorch\u001b[0m\u001b[0;34m.\u001b[0m\u001b[0mbernoulli\u001b[0m\u001b[0;34m(\u001b[0m\u001b[0mz\u001b[0m\u001b[0;34m)\u001b[0m\u001b[0;34m\u001b[0m\u001b[0;34m\u001b[0m\u001b[0m\n\u001b[0m\u001b[1;32m     17\u001b[0m \u001b[0;34m\u001b[0m\u001b[0m\n\u001b[1;32m     18\u001b[0m         \u001b[0;32mreturn\u001b[0m \u001b[0mself\u001b[0m\u001b[0;34m.\u001b[0m\u001b[0msigmoid\u001b[0m\u001b[0;34m(\u001b[0m\u001b[0mself\u001b[0m\u001b[0;34m.\u001b[0m\u001b[0mforward\u001b[0m\u001b[0;34m(\u001b[0m\u001b[0mz\u001b[0m\u001b[0;34m)\u001b[0m\u001b[0;34m)\u001b[0m\u001b[0;34m\u001b[0m\u001b[0;34m\u001b[0m\u001b[0m\n",
      "\u001b[0;31mRuntimeError\u001b[0m: Expected p_in >= 0 && p_in <= 1 to be true, but got false.  (Could this error message be improved?  If so, please report an enhancement request to PyTorch.)"
     ]
    }
   ],
   "source": [
    "decoder.eval()\n",
    "\n",
    "with torch.no_grad():\n",
    "    # you can try true samples\n",
    "    # or useing argmax\n",
    "    samples = decoder.sample_images(5, argmax=True)\n",
    "    display_images(samples)"
   ]
  },
  {
   "cell_type": "markdown",
   "metadata": {},
   "source": [
    "# 4. Turning a Deterministic Auto-Encoder into a generative model\n",
    "\n",
    "Last exercise!\n",
    "Here I want to show you a trick to turn a deterministic model into a probabilistic generative model.\n",
    "This a two step process.\n",
    "\n",
    "First, you train an auto-encoder - not a VAE, just an encoder.\n",
    "The encoder takes an image and project it in the latent space, here we will use a 2 dimension latent space.\n",
    "It is a deterministic computation: the output of the encoder **is not** the parameters of the approximate posterior $q(z|x)$ distribution, it is a point in the $\\mathbb R^2$ space.\n",
    "The decoder reconstruct the input image from the encoder output.\n",
    "Therefore, during training, the main difference is that you don't have a KL divergence term! :)\n",
    "\n",
    "Second, we turn this deterministic model into a probabilistic generative model.\n",
    "To do this, we look at where each training image of the training is mapped in the latent space.\n",
    "You can train a Gaussian Mixture Model that will generate data that look like the latent space of the training set!\n",
    "Then, to generate a new data point, you can:\n",
    "\n",
    "1. sample a cluster from the GMM: $y \\sim p(y)$\n",
    "2. sample a point from the bivariate Gaussian associated with this cluster: $z \\sim p(z|y)$\n",
    "3. use the decoder to sample an image: $x \\sim p(x | z)$\n",
    "\n",
    "To fit and sample from the GMM, use the scikit learn library!\n",
    "https://scikit-learn.org/stable/modules/generated/sklearn.mixture.GaussianMixture.html\n",
    "\n",
    "### Architecture and training loop of the auto-encoder"
   ]
  },
  {
   "cell_type": "code",
   "execution_count": 149,
   "metadata": {},
   "outputs": [],
   "source": [
    "# You are on your own! good luck :)"
   ]
  },
  {
   "cell_type": "markdown",
   "metadata": {},
   "source": [
    "We can now visualize the latent space of the deterministic auto-encoder. How does it look like compared to the VAE one? Does it looks like we can fit it with a GMM?"
   ]
  },
  {
   "cell_type": "code",
   "execution_count": 150,
   "metadata": {},
   "outputs": [
    {
     "ename": "ValueError",
     "evalue": "too many values to unpack (expected 2)",
     "output_type": "error",
     "traceback": [
      "\u001b[0;31m---------------------------------------------------------------------------\u001b[0m",
      "\u001b[0;31mValueError\u001b[0m                                Traceback (most recent call last)",
      "\u001b[0;32m<ipython-input-150-78ddd44bccec>\u001b[0m in \u001b[0;36m<module>\u001b[0;34m\u001b[0m\n\u001b[1;32m      6\u001b[0m     \u001b[0;32mfor\u001b[0m \u001b[0mi\u001b[0m \u001b[0;32min\u001b[0m \u001b[0mrange\u001b[0m\u001b[0;34m(\u001b[0m\u001b[0;36m0\u001b[0m\u001b[0;34m,\u001b[0m \u001b[0mtrain_data_pixels\u001b[0m\u001b[0;34m.\u001b[0m\u001b[0mshape\u001b[0m\u001b[0;34m[\u001b[0m\u001b[0;36m0\u001b[0m\u001b[0;34m]\u001b[0m\u001b[0;34m,\u001b[0m \u001b[0mbatch_dim\u001b[0m\u001b[0;34m)\u001b[0m\u001b[0;34m:\u001b[0m\u001b[0;34m\u001b[0m\u001b[0;34m\u001b[0m\u001b[0m\n\u001b[1;32m      7\u001b[0m         \u001b[0mbatch\u001b[0m \u001b[0;34m=\u001b[0m \u001b[0mtrain_data_pixels\u001b[0m\u001b[0;34m[\u001b[0m\u001b[0mi\u001b[0m\u001b[0;34m:\u001b[0m\u001b[0mi\u001b[0m\u001b[0;34m+\u001b[0m\u001b[0mbatch_dim\u001b[0m\u001b[0;34m]\u001b[0m\u001b[0;34m\u001b[0m\u001b[0;34m\u001b[0m\u001b[0m\n\u001b[0;32m----> 8\u001b[0;31m         \u001b[0mmu\u001b[0m\u001b[0;34m,\u001b[0m \u001b[0m_\u001b[0m \u001b[0;34m=\u001b[0m \u001b[0mencoder\u001b[0m\u001b[0;34m(\u001b[0m\u001b[0mbatch\u001b[0m\u001b[0;34m)\u001b[0m\u001b[0;34m\u001b[0m\u001b[0;34m\u001b[0m\u001b[0m\n\u001b[0m\u001b[1;32m      9\u001b[0m         \u001b[0mpoints\u001b[0m\u001b[0;34m[\u001b[0m\u001b[0mi\u001b[0m\u001b[0;34m:\u001b[0m\u001b[0mi\u001b[0m\u001b[0;34m+\u001b[0m\u001b[0mbatch_dim\u001b[0m\u001b[0;34m]\u001b[0m \u001b[0;34m=\u001b[0m \u001b[0mmu\u001b[0m\u001b[0;34m.\u001b[0m\u001b[0mnumpy\u001b[0m\u001b[0;34m(\u001b[0m\u001b[0;34m)\u001b[0m\u001b[0;34m\u001b[0m\u001b[0;34m\u001b[0m\u001b[0m\n\u001b[1;32m     10\u001b[0m \u001b[0;34m\u001b[0m\u001b[0m\n",
      "\u001b[0;31mValueError\u001b[0m: too many values to unpack (expected 2)"
     ]
    }
   ],
   "source": [
    "decoder.eval()\n",
    "\n",
    "# tensor that will contain all latent points\n",
    "points = np.empty((train_data_pixels.shape[0], 2))\n",
    "with torch.no_grad():\n",
    "    for i in range(0, train_data_pixels.shape[0], batch_dim): \n",
    "        batch = train_data_pixels[i:i+batch_dim]\n",
    "        mu, _ = encoder(batch)\n",
    "        points[i:i+batch_dim] = mu.numpy()\n",
    "\n",
    "plt.scatter(\n",
    "    points[:,0], points[:, 1],\n",
    "    # colormap is between 0 and 1, and we have 10 classes\n",
    "    # so we just divide by 10 :)\n",
    "    # https://matplotlib.org/3.1.1/tutorials/colors/colormaps.html\n",
    "    c=matplotlib.cm.get_cmap(\"tab10\")(train_data_classes / 10.)\n",
    ")\n",
    "plt.show()"
   ]
  },
  {
   "cell_type": "markdown",
   "metadata": {},
   "source": [
    "### Turning the deterministic auto-encoder into a generative model\n",
    "\n",
    "Todo:\n",
    "\n",
    "1. fit the point from the encoder with a GMM (for example with 20 clusters, called components in scikit-learn): https://scikit-learn.org/stable/modules/generated/sklearn.mixture.GaussianMixture.html\n",
    "2. Sample many points from this GMM and plot them: does the resulting point cloud looks like the one above? (or, in other words, did the GMM correctly fit the latent space?)\n",
    "3. Sample new data from the model! How does it looks like compared to VAE? how does the output distribution looks like? Does it work?\n",
    "\n",
    "Note: its an **unsupervised problem**, do not use class information in this part!"
   ]
  },
  {
   "cell_type": "code",
   "execution_count": 28,
   "metadata": {},
   "outputs": [],
   "source": [
    "# I let you do this alone, again..."
   ]
  },
  {
   "cell_type": "code",
   "execution_count": null,
   "metadata": {},
   "outputs": [],
   "source": []
  }
 ],
 "metadata": {
  "kernelspec": {
   "display_name": "Python 3",
   "language": "python",
   "name": "python3"
  },
  "language_info": {
   "codemirror_mode": {
    "name": "ipython",
    "version": 3
   },
   "file_extension": ".py",
   "mimetype": "text/x-python",
   "name": "python",
   "nbconvert_exporter": "python",
   "pygments_lexer": "ipython3",
   "version": "3.7.6"
  }
 },
 "nbformat": 4,
 "nbformat_minor": 2
}
